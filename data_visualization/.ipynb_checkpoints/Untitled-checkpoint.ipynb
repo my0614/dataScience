{
 "cells": [
  {
   "cell_type": "code",
   "execution_count": 6,
   "metadata": {},
   "outputs": [
    {
     "data": {
      "text/plain": [
       "array([0, 1, 2])"
      ]
     },
     "execution_count": 6,
     "metadata": {},
     "output_type": "execute_result"
    }
   ],
   "source": [
    "import numpy as np\n",
    "x = np.arange(3)\n",
    "x"
   ]
  },
  {
   "cell_type": "code",
   "execution_count": 12,
   "metadata": {},
   "outputs": [
    {
     "name": "stdout",
     "output_type": "stream",
     "text": [
      "가장많은자격증을 취득한 것은 항공정비사(명) 취득한 사람의 수는  20195.0\n",
      "가장많은자격증을 취득한 것은 항공기관사(명) 취득한 사람의 수는  411.0\n"
     ]
    },
    {
     "data": {
      "image/png": "[encoded data removed]",
      "text/plain": [
       "<Figure size 864x216 with 1 Axes>"
      ]
     },
     "metadata": {
      "needs_background": "light"
     },
     "output_type": "display_data"
    }
   ],
   "source": [
    "import pandas as pd\n",
    "import matplotlib.pyplot as plt\n",
    "import matplotlib.font_manager as fm\n",
    "from matplotlib import rc\n",
    "\n",
    "data = pd.read_csv('./한국교통안전공단_자격증.csv',encoding='cp949')\n",
    "\n",
    "fontprop = fm.FontProperties(fname=r\"C:\\Users\\MY\\workspace\\datascience\\NanumFontSetup_TTF_ALL(1)/NanumGothicCoding.ttf\").get_name()\n",
    "rc('font', family=fontprop)\n",
    "\n",
    "\n",
    "result = []\n",
    "label_name = []\n",
    "for i in data:\n",
    "    result.append(data[str(i)].sum())\n",
    "    label_name.append(i)\n",
    "del result[0]\n",
    "del result[8]\n",
    "\n",
    "del label_name[0]\n",
    "del label_name[8]\n",
    "\n",
    "df = pd.DataFrame(result,columns = ['Certificate'], index = label_name)\n",
    "max = df['Certificate'].max()\n",
    "max_name =df.index[df['Certificate'] == max][0]\n",
    "min = df['Certificate'].min()\n",
    "min_name =df.index[df['Certificate'] == min][0]\n",
    "\n",
    "print('가장많은자격증을 취득한 것은',max_name,'취득한 사람의 수는 ',max)\n",
    "print('가장많은자격증을 취득한 것은',min_name,'취득한 사람의 수는 ',min)\n",
    "\n",
    "x = np.arange(3)\n",
    "plt.figure(figsize=(12, 3))\n",
    "plt.bar(label_name,result)\n",
    "plt.show()\n"
   ]
  },
  {
   "cell_type": "code",
   "execution_count": null,
   "metadata": {},
   "outputs": [],
   "source": [
    "from pop import Pilot\n",
    "from pop import LiDAR\n",
    "import time\n",
    "import math\n",
    "\n",
    "serbot_with = 50 # 초기 serbot값 설정\n",
    "\n",
    "#각도 거리 탐지\n",
    "def calcAngle(length):\n",
    "    angle = math.atan(angle = length / (serbot_width /2)) #atan함수 사용하여 \n",
    "    angle = math.degrees(angle) # 라디안을 각도형식으로 변환\n",
    "    print(angle)\n",
    "    return angle\n",
    "\n",
    "\n",
    "bot = Pilot.SerBot()\n",
    "lidar = LiDAR.Rplidar()\n",
    "lidar.connect()\n",
    "lidar.startMotor()\n",
    "direction = 0\n",
    "while True:\n",
    "    no_collision = True\n",
    "    vectors = lidar.getVectors()\n",
    "    for v in vectors:\n",
    "        degree = v[0]\n",
    "        distance = v[1]\n",
    "        if degree <= 60 or degree >= 300:\n",
    "            if distance <= 500:\n",
    "                no_collision = False\n",
    "        if degree <= 30:\n",
    "            bot.stop()\n",
    "            print('stop')\n",
    "            \n",
    "    if no_collision:\n",
    "        bot.setSpeed(80)\n",
    "        bot.forward()\n",
    "    else:\n",
    "        bot.setSpeed(50)\n",
    "        bot.turnLeft()"
   ]
  }
 ],
 "metadata": {
  "kernelspec": {
   "display_name": "Python 3",
   "language": "python",
   "name": "python3"
  },
  "language_info": {
   "codemirror_mode": {
    "name": "ipython",
    "version": 3
   },
   "file_extension": ".py",
   "mimetype": "text/x-python",
   "name": "python",
   "nbconvert_exporter": "python",
   "pygments_lexer": "ipython3",
   "version": "3.8.5"
  }
 },
 "nbformat": 4,
 "nbformat_minor": 4
}
