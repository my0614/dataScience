{
 "cells": [
  {
   "cell_type": "code",
   "execution_count": 10,
   "metadata": {},
   "outputs": [
    {
     "name": "stdout",
     "output_type": "stream",
     "text": [
      "16 16\n",
      "99 a: -1.1513145 b: 5.929935 c: -4.081536 d: 6.190865 loss: 65.31145\n",
      "199 a: -2.0109353 b: 6.9507217 c: -2.356899 d: 9.783665 loss: 31.657421\n",
      "299 a: -1.735579 b: 5.330037 c: -0.96931815 d: 11.9741535 loss: 20.66188\n",
      "399 a: -1.0085672 b: 3.0273752 c: -0.57703614 d: 13.496872 loss: 14.640881\n",
      "499 a: -0.29435092 b: 0.93351865 c: -0.47543338 d: 14.643831 loss: 11.174821\n",
      "599 a: 0.27290753 b: -0.7061597 c: -0.4336369 d: 15.504938 loss: 9.375288\n",
      "699 a: 0.6838267 b: -1.8909796 c: -0.40817812 d: 16.122066 loss: 8.540092\n",
      "799 a: 0.9626043 b: -2.694389 c: -0.39153653 d: 16.539762 loss: 8.192983\n",
      "899 a: 1.1406981 b: -3.2075677 c: -0.38101384 d: 16.80642 loss: 8.063754\n",
      "999 a: 1.2479551 b: -3.5166128 c: -0.37469834 d: 16.966972 loss: 8.020689\n"
     ]
    },
    {
     "data": {
      "image/png": "[encoded data removed]",
      "text/plain": [
       "<Figure size 432x288 with 1 Axes>"
      ]
     },
     "metadata": {
      "needs_background": "light"
     },
     "output_type": "display_data"
    }
   ],
   "source": [
    "import tensorflow as tf\n",
    "import numpy as np\n",
    "import matplotlib.pyplot as plt\n",
    "import random\n",
    "\n",
    "X = [0.3,-0.78,1.26,0.03,1.11,0.24,-0.24,-0.47,-0.77,-0.37,-0.85,-0.41,-0.27,0.02,-0.76,2.66]\n",
    "Y = [12.27,14.44,11.87,18.75,17.52,16.37,19.78,19.51,12.65,14.74,10.72,21.94,12.83,15.51,17.14,14.42]\n",
    "print(len(X),len(Y))\n",
    "\n",
    "#a,b,c 랜덤값으로 초기화\n",
    "a = tf.Variable(random.random())\n",
    "b = tf.Variable(random.random())\n",
    "c = tf.Variable(random.random())\n",
    "d = tf.Variable(random.random())\n",
    "\n",
    "def compute_loss():\n",
    "    y_pred=a* X*X*X + b * X*X + c * X + d  # 3차함수식\n",
    "    loss = tf.reduce_mean((Y-y_pred) ** 2) #전차의 제곱 평균\n",
    "    return loss\n",
    "\n",
    "optimizer = tf.keras.optimizers.Adam(lr=0.07) #활성화 함수로 Adam사용\n",
    "for i in range(1000):\n",
    "    optimizer.minimize(compute_loss, var_list = [a,b,c,d])\n",
    "    if i % 100 == 99:\n",
    "        print(i, 'a:', a.numpy(), 'b:', b.numpy(), 'c:', c.numpy(), 'd:',d.numpy(), 'loss:', compute_loss().numpy())\n",
    "\n",
    "line_x = np.arange(min(X),max(X), 0.01)\n",
    "line_y = a * line_x * line_x * line_x + b * line_x * line_x + c* line_x + d\n",
    "\n",
    "plt.plot(line_x, line_y)\n",
    "plt.plot(X,Y,'ro')\n",
    "plt.xlabel('population Growth rate(%)')\n",
    "plt.xlabel('Elderly population rate(%)')\n",
    "plt.show()"
   ]
  },
  {
   "cell_type": "code",
   "execution_count": 15,
   "metadata": {},
   "outputs": [
    {
     "name": "stdout",
     "output_type": "stream",
     "text": [
      "Model: \"sequential_3\"\n",
      "_________________________________________________________________\n",
      "Layer (type)                 Output Shape              Param #   \n",
      "=================================================================\n",
      "dense_6 (Dense)              (None, 6)                 12        \n",
      "_________________________________________________________________\n",
      "dense_7 (Dense)              (None, 1)                 7         \n",
      "=================================================================\n",
      "Total params: 19\n",
      "Trainable params: 19\n",
      "Non-trainable params: 0\n",
      "_________________________________________________________________\n",
      "Epoch 1/10\n",
      "1/1 [==============================] - 0s 3ms/step - loss: 254.0524\n",
      "Epoch 2/10\n",
      "1/1 [==============================] - 0s 2ms/step - loss: 137.3331\n",
      "Epoch 3/10\n",
      "1/1 [==============================] - 0s 3ms/step - loss: 24.2702\n",
      "Epoch 4/10\n",
      "1/1 [==============================] - 0s 3ms/step - loss: 9.8937\n",
      "Epoch 5/10\n",
      "1/1 [==============================] - 0s 2ms/step - loss: 9.6869\n",
      "Epoch 6/10\n",
      "1/1 [==============================] - 0s 3ms/step - loss: 9.6631\n",
      "Epoch 7/10\n",
      "1/1 [==============================] - 0s 2ms/step - loss: 9.6539\n",
      "Epoch 8/10\n",
      "1/1 [==============================] - 0s 5ms/step - loss: 9.6465\n",
      "Epoch 9/10\n",
      "1/1 [==============================] - 0s 3ms/step - loss: 9.6392\n",
      "Epoch 10/10\n",
      "1/1 [==============================] - 0s 2ms/step - loss: 9.6312\n"
     ]
    },
    {
     "data": {
      "image/png": "[encoded data removed]",
      "text/plain": [
       "<Figure size 432x288 with 1 Axes>"
      ]
     },
     "metadata": {
      "needs_background": "light"
     },
     "output_type": "display_data"
    }
   ],
   "source": [
    "import tensorflow as tf\n",
    "import numpy as np\n",
    "\n",
    "X = [0.3,-0.78,1.26,0.03,1.11,0.24,-0.24,-0.47,-0.77,-0.37,-0.85,-0.41,-0.27,0.02,-0.76,2.66]\n",
    "Y = [12.27,14.44,11.87,18.75,17.52,16.37,19.78,19.51,12.65,14.74,10.72,21.94,12.83,15.51,17.14,14.42]\n",
    "\n",
    "model = tf.keras.Sequential([\n",
    "    tf.keras.layers.Dense(units = 6, activation = 'tanh', input_shape= (1,)),\n",
    "    tf.keras.layers.Dense(units = 1)\n",
    "])\n",
    "\n",
    "model.compile(optimizer = tf.keras.optimizers.SGD(lr=0.1), loss='mse')\n",
    "model.summary()\n",
    "model.fit(X,Y, epochs = 10) # 학습하기\n",
    "model.predict(X)\n",
    "\n",
    "import matplotlib.pyplot as plt\n",
    "\n",
    "line_x = np.arange(min(X),max(X), 0.01)\n",
    "line_y = model.predict(line_x)\n",
    "\n",
    "plt.plot(line_x, line_y,'r-')\n",
    "plt.plot(X,Y, 'bo')\n",
    "plt.xlabel('population growth rate(%)')\n",
    "plt.ylabel('elderly rate(%)')\n",
    "plt.show()"
   ]
  },
  {
   "cell_type": "code",
   "execution_count": 5,
   "metadata": {},
   "outputs": [
    {
     "name": "stdout",
     "output_type": "stream",
     "text": [
      "404 404\n",
      "[  1.23247   0.        8.14      0.        0.538     6.142    91.7\n",
      "   3.9769    4.      307.       21.      396.9      18.72   ]\n",
      "15.2\n",
      "[-0.27224633 -0.48361547 -0.43576161 -0.25683275 -0.1652266  -0.1764426\n",
      "  0.81306188  0.1166983  -0.62624905 -0.59517003  1.14850044  0.44807713\n",
      "  0.8252202 ]\n",
      "-0.7821526033779157\n",
      "Model: \"sequential_4\"\n",
      "_________________________________________________________________\n",
      "Layer (type)                 Output Shape              Param #   \n",
      "=================================================================\n",
      "dense_16 (Dense)             (None, 50)                700       \n",
      "_________________________________________________________________\n",
      "dense_17 (Dense)             (None, 35)                1785      \n",
      "_________________________________________________________________\n",
      "dense_18 (Dense)             (None, 21)                756       \n",
      "_________________________________________________________________\n",
      "dense_19 (Dense)             (None, 1)                 22        \n",
      "=================================================================\n",
      "Total params: 3,263\n",
      "Trainable params: 3,263\n",
      "Non-trainable params: 0\n",
      "_________________________________________________________________\n",
      "Epoch 1/25\n",
      "10/10 [==============================] - 0s 23ms/step - loss: 1.3513 - val_loss: 1.1267\n",
      "Epoch 2/25\n",
      "10/10 [==============================] - 0s 4ms/step - loss: 0.5067 - val_loss: 0.4566\n",
      "Epoch 3/25\n",
      "10/10 [==============================] - 0s 6ms/step - loss: 0.3613 - val_loss: 0.3777\n",
      "Epoch 4/25\n",
      "10/10 [==============================] - 0s 4ms/step - loss: 0.2521 - val_loss: 0.2888\n",
      "Epoch 5/25\n",
      "10/10 [==============================] - 0s 3ms/step - loss: 0.2047 - val_loss: 0.2043\n",
      "Epoch 6/25\n",
      "10/10 [==============================] - 0s 5ms/step - loss: 0.1544 - val_loss: 0.1588\n",
      "Epoch 7/25\n",
      "10/10 [==============================] - 0s 4ms/step - loss: 0.1363 - val_loss: 0.2079\n",
      "Epoch 8/25\n",
      "10/10 [==============================] - 0s 4ms/step - loss: 0.1221 - val_loss: 0.1772\n",
      "Epoch 9/25\n",
      "10/10 [==============================] - 0s 4ms/step - loss: 0.1279 - val_loss: 0.2368\n",
      "Epoch 10/25\n",
      "10/10 [==============================] - 0s 4ms/step - loss: 0.1168 - val_loss: 0.1149\n",
      "Epoch 11/25\n",
      "10/10 [==============================] - 0s 4ms/step - loss: 0.0887 - val_loss: 0.1275\n",
      "Epoch 12/25\n",
      "10/10 [==============================] - 0s 4ms/step - loss: 0.0855 - val_loss: 0.1270\n",
      "Epoch 13/25\n",
      "10/10 [==============================] - 0s 4ms/step - loss: 0.0798 - val_loss: 0.1097\n",
      "Epoch 14/25\n",
      "10/10 [==============================] - 0s 4ms/step - loss: 0.0795 - val_loss: 0.1266\n",
      "Epoch 15/25\n",
      "10/10 [==============================] - 0s 4ms/step - loss: 0.1147 - val_loss: 0.1283\n",
      "Epoch 16/25\n",
      "10/10 [==============================] - 0s 3ms/step - loss: 0.1126 - val_loss: 0.2378\n",
      "Epoch 17/25\n",
      "10/10 [==============================] - 0s 3ms/step - loss: 0.1412 - val_loss: 0.1389\n",
      "Epoch 18/25\n",
      "10/10 [==============================] - 0s 4ms/step - loss: 0.0875 - val_loss: 0.1196\n",
      "Epoch 19/25\n",
      "10/10 [==============================] - 0s 3ms/step - loss: 0.0755 - val_loss: 0.1667\n",
      "Epoch 20/25\n",
      "10/10 [==============================] - 0s 4ms/step - loss: 0.0789 - val_loss: 0.1735\n",
      "Epoch 21/25\n",
      "10/10 [==============================] - 0s 3ms/step - loss: 0.0749 - val_loss: 0.1244\n",
      "Epoch 22/25\n",
      "10/10 [==============================] - 0s 4ms/step - loss: 0.0620 - val_loss: 0.1458\n",
      "Epoch 23/25\n",
      "10/10 [==============================] - 0s 4ms/step - loss: 0.0615 - val_loss: 0.1483\n",
      "Epoch 24/25\n",
      "10/10 [==============================] - 0s 3ms/step - loss: 0.0638 - val_loss: 0.1895\n",
      "Epoch 25/25\n",
      "10/10 [==============================] - 0s 3ms/step - loss: 0.0702 - val_loss: 0.1209\n"
     ]
    },
    {
     "data": {
      "image/png": "[encoded data removed]",
      "text/plain": [
       "<Figure size 360x360 with 1 Axes>"
      ]
     },
     "metadata": {
      "needs_background": "light"
     },
     "output_type": "display_data"
    }
   ],
   "source": [
    "from tensorflow.keras.datasets import boston_housing\n",
    "import tensorflow as tf\n",
    "(train_X, train_Y), (test_X, test_Y) = boston_housing.load_data()\n",
    "print(len(train_X), len(train_Y))\n",
    "print(train_X[0])\n",
    "print(train_Y[0])\n",
    "\n",
    "x_mean = train_X.mean(axis = 0)\n",
    "x_std = train_X.std(axis = 0)\n",
    "train_X -= x_mean\n",
    "train_X /= x_std\n",
    "test_X -= x_mean\n",
    "test_X /= x_std\n",
    "\n",
    "y_mean = train_Y.mean(axis = 0)\n",
    "y_std = train_Y.std(axis = 0)\n",
    "\n",
    "train_Y -= y_mean\n",
    "train_Y /= y_std\n",
    "test_Y -= y_mean\n",
    "test_Y /= y_std\n",
    "\n",
    "print(train_X[0])\n",
    "print(train_Y[0])\n",
    "\n",
    "model = tf.keras.Sequential([\n",
    "    tf.keras.layers.Dense(units = 50, activation = 'relu', input_shape = (13,)),\n",
    "    tf.keras.layers.Dense(units = 35, activation = 'relu'),\n",
    "    tf.keras.layers.Dense(units = 21, activation = 'relu'),\n",
    "    tf.keras.layers.Dense(units= 1) #출력은 1개\n",
    "])\n",
    "model.compile(optimizer = tf.keras.optimizers.Adam(lr = 0.07), loss = 'mse')\n",
    "model.summary()\n",
    "history = model.fit(train_X, train_Y, epochs = 25, batch_size = 32, validation_split = 0.25)\n",
    "\n",
    "\n",
    "pred_Y = model.predict(test_X)\n",
    "plt.figure(figsize = (5,5))\n",
    "plt.plot(test_Y, pred_Y, 'b.')\n",
    "plt.axis([min(test_Y) , max(test_Y), min(test_Y), max(test_Y)])\n",
    "\n",
    "plt.plot([min(test_Y) , max(test_Y)],[ min(test_Y), max(test_Y)], ls = '--', c = \".3\")\n",
    "plt.xlabel('test_Y')\n",
    "plt.ylabel('test_Y')\n",
    "plt.show()"
   ]
  },
  {
   "cell_type": "code",
   "execution_count": null,
   "metadata": {},
   "outputs": [],
   "source": []
  }
 ],
 "metadata": {
  "kernelspec": {
   "display_name": "Python 3",
   "language": "python",
   "name": "python3"
  },
  "language_info": {
   "codemirror_mode": {
    "name": "ipython",
    "version": 3
   },
   "file_extension": ".py",
   "mimetype": "text/x-python",
   "name": "python",
   "nbconvert_exporter": "python",
   "pygments_lexer": "ipython3",
   "version": "3.8.5"
  }
 },
 "nbformat": 4,
 "nbformat_minor": 4
}
