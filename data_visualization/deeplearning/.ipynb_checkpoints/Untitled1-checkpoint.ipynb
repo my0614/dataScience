{
 "cells": [
  {
   "cell_type": "code",
   "execution_count": 10,
   "metadata": {},
   "outputs": [
    {
     "name": "stdout",
     "output_type": "stream",
     "text": [
      "16 16\n",
      "99 a: -1.1513145 b: 5.929935 c: -4.081536 d: 6.190865 loss: 65.31145\n",
      "199 a: -2.0109353 b: 6.9507217 c: -2.356899 d: 9.783665 loss: 31.657421\n",
      "299 a: -1.735579 b: 5.330037 c: -0.96931815 d: 11.9741535 loss: 20.66188\n",
      "399 a: -1.0085672 b: 3.0273752 c: -0.57703614 d: 13.496872 loss: 14.640881\n",
      "499 a: -0.29435092 b: 0.93351865 c: -0.47543338 d: 14.643831 loss: 11.174821\n",
      "599 a: 0.27290753 b: -0.7061597 c: -0.4336369 d: 15.504938 loss: 9.375288\n",
      "699 a: 0.6838267 b: -1.8909796 c: -0.40817812 d: 16.122066 loss: 8.540092\n",
      "799 a: 0.9626043 b: -2.694389 c: -0.39153653 d: 16.539762 loss: 8.192983\n",
      "899 a: 1.1406981 b: -3.2075677 c: -0.38101384 d: 16.80642 loss: 8.063754\n",
      "999 a: 1.2479551 b: -3.5166128 c: -0.37469834 d: 16.966972 loss: 8.020689\n"
     ]
    },
    {
     "data": {
      "image/png": "[encoded data removed]",
      "text/plain": [
       "<Figure size 432x288 with 1 Axes>"
      ]
     },
     "metadata": {
      "needs_background": "light"
     },
     "output_type": "display_data"
    }
   ],
   "source": [
    "import tensorflow as tf\n",
    "import numpy as np\n",
    "import matplotlib.pyplot as plt\n",
    "import random\n",
    "\n",
    "X = [0.3,-0.78,1.26,0.03,1.11,0.24,-0.24,-0.47,-0.77,-0.37,-0.85,-0.41,-0.27,0.02,-0.76,2.66]\n",
    "Y = [12.27,14.44,11.87,18.75,17.52,16.37,19.78,19.51,12.65,14.74,10.72,21.94,12.83,15.51,17.14,14.42]\n",
    "print(len(X),len(Y))\n",
    "\n",
    "#a,b,c 랜덤값으로 초기화\n",
    "a = tf.Variable(random.random())\n",
    "b = tf.Variable(random.random())\n",
    "c = tf.Variable(random.random())\n",
    "d = tf.Variable(random.random())\n",
    "\n",
    "def compute_loss():\n",
    "    y_pred=a* X*X*X + b * X*X + c * X + d  # 3차함수식\n",
    "    loss = tf.reduce_mean((Y-y_pred) ** 2) #전차의 제곱 평균\n",
    "    return loss\n",
    "\n",
    "optimizer = tf.keras.optimizers.Adam(lr=0.07) #활성화 함수로 Adam사용\n",
    "for i in range(1000):\n",
    "    optimizer.minimize(compute_loss, var_list = [a,b,c,d])\n",
    "    if i % 100 == 99:\n",
    "        print(i, 'a:', a.numpy(), 'b:', b.numpy(), 'c:', c.numpy(), 'd:',d.numpy(), 'loss:', compute_loss().numpy())\n",
    "\n",
    "line_x = np.arange(min(X),max(X), 0.01)\n",
    "line_y = a * line_x * line_x * line_x + b * line_x * line_x + c* line_x + d\n",
    "\n",
    "plt.plot(line_x, line_y)\n",
    "plt.plot(X,Y,'ro')\n",
    "plt.xlabel('population Growth rate(%)')\n",
    "plt.xlabel('Elderly population rate(%)')\n",
    "plt.show()"
   ]
  },
  {
   "cell_type": "code",
   "execution_count": 15,
   "metadata": {},
   "outputs": [
    {
     "name": "stdout",
     "output_type": "stream",
     "text": [
      "Model: \"sequential_3\"\n",
      "_________________________________________________________________\n",
      "Layer (type)                 Output Shape              Param #   \n",
      "=================================================================\n",
      "dense_6 (Dense)              (None, 6)                 12        \n",
      "_________________________________________________________________\n",
      "dense_7 (Dense)              (None, 1)                 7         \n",
      "=================================================================\n",
      "Total params: 19\n",
      "Trainable params: 19\n",
      "Non-trainable params: 0\n",
      "_________________________________________________________________\n",
      "Epoch 1/10\n",
      "1/1 [==============================] - 0s 3ms/step - loss: 254.0524\n",
      "Epoch 2/10\n",
      "1/1 [==============================] - 0s 2ms/step - loss: 137.3331\n",
      "Epoch 3/10\n",
      "1/1 [==============================] - 0s 3ms/step - loss: 24.2702\n",
      "Epoch 4/10\n",
      "1/1 [==============================] - 0s 3ms/step - loss: 9.8937\n",
      "Epoch 5/10\n",
      "1/1 [==============================] - 0s 2ms/step - loss: 9.6869\n",
      "Epoch 6/10\n",
      "1/1 [==============================] - 0s 3ms/step - loss: 9.6631\n",
      "Epoch 7/10\n",
      "1/1 [==============================] - 0s 2ms/step - loss: 9.6539\n",
      "Epoch 8/10\n",
      "1/1 [==============================] - 0s 5ms/step - loss: 9.6465\n",
      "Epoch 9/10\n",
      "1/1 [==============================] - 0s 3ms/step - loss: 9.6392\n",
      "Epoch 10/10\n",
      "1/1 [==============================] - 0s 2ms/step - loss: 9.6312\n"
     ]
    },
    {
     "data": {
      "image/png": "[encoded data removed]",
      "text/plain": [
       "<Figure size 432x288 with 1 Axes>"
      ]
     },
     "metadata": {
      "needs_background": "light"
     },
     "output_type": "display_data"
    }
   ],
   "source": [
    "import tensorflow as tf\n",
    "import numpy as np\n",
    "\n",
    "X = [0.3,-0.78,1.26,0.03,1.11,0.24,-0.24,-0.47,-0.77,-0.37,-0.85,-0.41,-0.27,0.02,-0.76,2.66]\n",
    "Y = [12.27,14.44,11.87,18.75,17.52,16.37,19.78,19.51,12.65,14.74,10.72,21.94,12.83,15.51,17.14,14.42]\n",
    "\n",
    "model = tf.keras.Sequential([\n",
    "    tf.keras.layers.Dense(units = 6, activation = 'tanh', input_shape= (1,)),\n",
    "    tf.keras.layers.Dense(units = 1)\n",
    "])\n",
    "\n",
    "model.compile(optimizer = tf.keras.optimizers.SGD(lr=0.1), loss='mse')\n",
    "model.summary()\n",
    "model.fit(X,Y, epochs = 10) # 학습하기\n",
    "model.predict(X)\n",
    "\n",
    "import matplotlib.pyplot as plt\n",
    "\n",
    "line_x = np.arange(min(X),max(X), 0.01)\n",
    "line_y = model.predict(line_x)\n",
    "\n",
    "plt.plot(line_x, line_y,'r-')\n",
    "plt.plot(X,Y, 'bo')\n",
    "plt.xlabel('population growth rate(%)')\n",
    "plt.ylabel('elderly rate(%)')\n",
    "plt.show()"
   ]
  },
  {
   "cell_type": "code",
   "execution_count": 16,
   "metadata": {},
   "outputs": [
    {
     "name": "stdout",
     "output_type": "stream",
     "text": [
      "Downloading data from https://storage.googleapis.com/tensorflow/tf-keras-datasets/boston_housing.npz\n",
      "57344/57026 [==============================] - 0s 0us/step\n",
      "404 404\n",
      "[  1.23247   0.        8.14      0.        0.538     6.142    91.7\n",
      "   3.9769    4.      307.       21.      396.9      18.72   ]\n",
      "15.2\n"
     ]
    }
   ],
   "source": [
    "from tensorflow.keras.datasets import boston_housing\n",
    "(train_X, train_Y), (test_X, test_Y) = boston_housing.load_data()\n",
    "print(len(train_X), len(train_Y))\n",
    "print(train_X[0])\n",
    "print(train_Y[0])"
   ]
  },
  {
   "cell_type": "code",
   "execution_count": null,
   "metadata": {},
   "outputs": [],
   "source": []
  }
 ],
 "metadata": {
  "kernelspec": {
   "display_name": "Python 3",
   "language": "python",
   "name": "python3"
  },
  "language_info": {
   "codemirror_mode": {
    "name": "ipython",
    "version": 3
   },
   "file_extension": ".py",
   "mimetype": "text/x-python",
   "name": "python",
   "nbconvert_exporter": "python",
   "pygments_lexer": "ipython3",
   "version": "3.8.5"
  }
 },
 "nbformat": 4,
 "nbformat_minor": 4
}
