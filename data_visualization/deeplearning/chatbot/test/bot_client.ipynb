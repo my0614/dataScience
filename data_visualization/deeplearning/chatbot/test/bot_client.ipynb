{
 "cells": [
  {
   "cell_type": "code",
   "execution_count": null,
   "metadata": {},
   "outputs": [
    {
     "name": "stdout",
     "output_type": "stream",
     "text": [
      "질문 : \n",
      "안녕하세요\n",
      "----------------------------------------\n",
      "답변 : \n",
      "네 안녕하세요 :D\n",
      "반갑습니다. 저는 챗봇입니다.\n",
      "\n",
      "\n",
      "질문 : \n",
      "시발년\n",
      "----------------------------------------\n",
      "답변 : \n",
      "욕하면 나빠요 ㅠ\n",
      "\n",
      "\n",
      "질문 : \n",
      "나는 거지입니다\n",
      "----------------------------------------\n",
      "답변 : \n",
      "욕하면 나빠요 ㅠ\n",
      "\n",
      "\n",
      "질문 : \n",
      "나도 취업하고 싶어요\n",
      "----------------------------------------\n",
      "답변 : \n",
      "죄송해요 무슨 말인지 모르겠어요. 조금 더 공부 할게요.\n",
      "\n",
      "\n",
      "질문 : \n"
     ]
    }
   ],
   "source": [
    "import socket\n",
    "import json\n",
    "\n",
    "host = \"127.0.0.1\"\n",
    "port = 5050\n",
    "\n",
    "while True:\n",
    "    print(\"질문 : \")\n",
    "    query = input()\n",
    "    if(query ==\"exit\"):\n",
    "        exit(0)\n",
    "    print(\"-\" * 40)\n",
    "\n",
    "    mySocket = socket.socket()\n",
    "    mySocket.connect((host, port))\n",
    "\n",
    "    json_data = {\n",
    "        'Query' : query,\n",
    "        'BotType' : \"MyService\"\n",
    "    }\n",
    "\n",
    "    message = json.dumps(json_data)\n",
    "    mySocket.send(message.encode())\n",
    "\n",
    "    data = mySocket.recv(2048).decode()\n",
    "    ret_data = json.loads(data)\n",
    "    print(\"답변 : \")\n",
    "    print(ret_data['Answer'])\n",
    "    print(\"\\n\")\n",
    "\n",
    "mySocket.close()\n"
   ]
  },
  {
   "cell_type": "code",
   "execution_count": null,
   "metadata": {},
   "outputs": [],
   "source": []
  }
 ],
 "metadata": {
  "kernelspec": {
   "display_name": "Python 3",
   "language": "python",
   "name": "python3"
  },
  "language_info": {
   "codemirror_mode": {
    "name": "ipython",
    "version": 3
   },
   "file_extension": ".py",
   "mimetype": "text/x-python",
   "name": "python",
   "nbconvert_exporter": "python",
   "pygments_lexer": "ipython3",
   "version": "3.8.5"
  }
 },
 "nbformat": 4,
 "nbformat_minor": 4
}
