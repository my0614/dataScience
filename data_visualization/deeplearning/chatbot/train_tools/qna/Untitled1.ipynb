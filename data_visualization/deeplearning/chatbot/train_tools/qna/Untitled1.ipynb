{
 "cells": [
  {
   "cell_type": "code",
   "execution_count": 11,
   "metadata": {},
   "outputs": [
    {
     "name": "stdout",
     "output_type": "stream",
     "text": [
      "(1045, \"Access denied for user 'asd'@'localhost' (using password: YES)\")\n"
     ]
    }
   ],
   "source": [
    "import pymysql\n",
    "from config import *\n",
    "DB_HOST =\"127.0.0.1\"\n",
    "DB_USER = \"asd\"\n",
    "DB_PASSWORD=\"1234\"\n",
    "DB_NAME = \"Tables\"\n",
    "def DatabaseConfig():\n",
    "    global DB_HOST, DB_USER, DB_PASSWORD, DB_NAME\n",
    "\n",
    "db = None\n",
    "try:\n",
    "    db = pymysql.connect(host= DB_HOST, user=DB_USER, passwd = DB_PASSWORD, db = DB_NAME, charset ='utf8')\n",
    "\n",
    "    sql = '''\n",
    "    CREATE TABLE IF NOT EXISTS `chatbot_train_data` (\n",
    "        `id` INT UNSIGNED NOT NULL AUTO_INCREMENT,\n",
    "        `intent` VARCHAR(45) NULL,\n",
    "        `ner` VARCHAR(1024) NULL,\n",
    "        `query` TEXT NULL,\n",
    "        `answer` TEXT NOT NULL,\n",
    "        `answer_image` VARCHAR(2048) NULL,\n",
    "        PRIMARY KEY (`id`))\n",
    "    ENGINE = InnoDB DEFAULT CHARSET = utf8\n",
    "    '''\n",
    "    with db.cursor()as cursor:\n",
    "        coursor.execute(sql)\n",
    "except Exception as e:\n",
    "    print(e)\n",
    "finally:\n",
    "    if db is not None:\n",
    "        db.close()\n"
   ]
  },
  {
   "cell_type": "code",
   "execution_count": 14,
   "metadata": {},
   "outputs": [],
   "source": [
    "import pymysql\n",
    "import openpyxl\n",
    "\n",
    "from config import *\n",
    "\n",
    "def all_clear_train_dat(db):\n",
    "    sql = '''\n",
    "        delete from chatbot_train_data\n",
    "    '''\n",
    "    with db.cursor() as cursor:\n",
    "        cursor.execute(sql)\n",
    "    sql = '''\n",
    "        ALTER TABLE chatbot_train_data_AUTO_INCREMENT = 1\n",
    "    '''\n",
    "    \n",
    "    with db.cursor() as cursor:\n",
    "        cursor.execute(sql)\n",
    "\n",
    "def insert_data(db, xls_row):\n",
    "    intent,ner,query, answer,answer_img_url = xls_row\n",
    "    sql = '''\n",
    "        INSERT cahtbot_train_data(intent, ner,)\n",
    "    '''"
   ]
  },
  {
   "cell_type": "code",
   "execution_count": null,
   "metadata": {},
   "outputs": [],
   "source": [
    "\n"
   ]
  },
  {
   "cell_type": "code",
   "execution_count": null,
   "metadata": {},
   "outputs": [],
   "source": []
  }
 ],
 "metadata": {
  "kernelspec": {
   "display_name": "Python 3",
   "language": "python",
   "name": "python3"
  },
  "language_info": {
   "codemirror_mode": {
    "name": "ipython",
    "version": 3
   },
   "file_extension": ".py",
   "mimetype": "text/x-python",
   "name": "python",
   "nbconvert_exporter": "python",
   "pygments_lexer": "ipython3",
   "version": "3.8.5"
  }
 },
 "nbformat": 4,
 "nbformat_minor": 4
}
