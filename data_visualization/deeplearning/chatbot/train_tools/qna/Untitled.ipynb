{
 "cells": [
  {
   "cell_type": "code",
   "execution_count": 1,
   "metadata": {},
   "outputs": [
    {
     "name": "stdout",
     "output_type": "stream",
     "text": [
      "success\n"
     ]
    }
   ],
   "source": [
    "import pymysql\n",
    "import openpyxl\n",
    "\n",
    "from test import *\n",
    "\n",
    "def all_clear_train_Data(db):\n",
    "    sql = '''\n",
    "    delete from chatbot_train_data\n",
    "    '''\n",
    "    with db.cursor() as cursor:\n",
    "        cursor.execute(sql)\n",
    "\n",
    "    sql = '''\n",
    "    ALTER TABLE chatbot_train_data AUTO_INCREMENT = 1\n",
    "    '''\n",
    "    with db.cursor() as cursor:\n",
    "        cursor.execute(sql)\n",
    "def insert_data(db, xls_row):\n",
    "    intent, ner, query, answer, asnwer_img_url = xls_row\n",
    "    sql = '''\n",
    "    INSERT chatbot_train_Data(intent, ner, query, answer, answer_image)\n",
    "    values('%s','%s','%s','%s','%s')\n",
    "    ''' %(intent.value, ner.value, query.value, answer.value, asnwer_img_url.value)\n",
    "\n",
    "    sql = sql.replace(\"None\", \"null\")\n",
    "    with db.cursor() as cursor:\n",
    "        cursor.execute(sql)\n",
    "        #print('{} 저장'.format(query.value))\n",
    "        db.commit()\n",
    "train_file = './train_data.xlsx'\n",
    "db = None\n",
    "try:\n",
    "    db = pymysql.connect(\n",
    "    user='root',        \n",
    "    passwd='1234',\n",
    "    host=\"127.0.0.1\",\n",
    "    db='test',\n",
    "    charset='utf8'\n",
    "    )\n",
    "    all_clear_train_Data(db)\n",
    "    wb = openpyxl.load_workbook(train_file)\n",
    "    sheet = wb['Sheet1']\n",
    "    for row in sheet.iter_rows(min_row = 2):\n",
    "            insert_data(db, row)\n",
    "    wb.close()\n",
    "except Exception as e:\n",
    "    print(e)\n",
    "finally:\n",
    "    if db is not None:\n",
    "        db.close()\n",
    "        print('success')\n"
   ]
  },
  {
   "cell_type": "code",
   "execution_count": null,
   "metadata": {},
   "outputs": [],
   "source": []
  }
 ],
 "metadata": {
  "kernelspec": {
   "display_name": "Python 3",
   "language": "python",
   "name": "python3"
  },
  "language_info": {
   "codemirror_mode": {
    "name": "ipython",
    "version": 3
   },
   "file_extension": ".py",
   "mimetype": "text/x-python",
   "name": "python",
   "nbconvert_exporter": "python",
   "pygments_lexer": "ipython3",
   "version": "3.8.5"
  }
 },
 "nbformat": 4,
 "nbformat_minor": 4
}
