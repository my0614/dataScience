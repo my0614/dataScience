{
 "cells": [
  {
   "cell_type": "code",
   "execution_count": 3,
   "metadata": {},
   "outputs": [
    {
     "ename": "ModuleNotFoundError",
     "evalue": "No module named 'config.DatabaseConfig'",
     "output_type": "error",
     "traceback": [
      "\u001b[1;31m---------------------------------------------------------------------------\u001b[0m",
      "\u001b[1;31mModuleNotFoundError\u001b[0m                       Traceback (most recent call last)",
      "\u001b[1;32m<ipython-input-3-8788c1dd109d>\u001b[0m in \u001b[0;36m<module>\u001b[1;34m\u001b[0m\n\u001b[0;32m      1\u001b[0m \u001b[1;32mimport\u001b[0m \u001b[0mpymysql\u001b[0m\u001b[1;33m\u001b[0m\u001b[1;33m\u001b[0m\u001b[0m\n\u001b[1;32m----> 2\u001b[1;33m \u001b[1;32mfrom\u001b[0m \u001b[0mconfig\u001b[0m\u001b[1;33m.\u001b[0m\u001b[0mDatabaseConfig\u001b[0m \u001b[1;32mimport\u001b[0m \u001b[1;33m*\u001b[0m\u001b[1;33m\u001b[0m\u001b[1;33m\u001b[0m\u001b[0m\n\u001b[0m\u001b[0;32m      3\u001b[0m \u001b[0mprint\u001b[0m\u001b[1;33m(\u001b[0m\u001b[1;34m'hello'\u001b[0m\u001b[1;33m)\u001b[0m\u001b[1;33m\u001b[0m\u001b[1;33m\u001b[0m\u001b[0m\n\u001b[0;32m      4\u001b[0m \u001b[0mdb\u001b[0m \u001b[1;33m=\u001b[0m \u001b[1;32mNone\u001b[0m\u001b[1;33m\u001b[0m\u001b[1;33m\u001b[0m\u001b[0m\n\u001b[0;32m      5\u001b[0m \u001b[1;32mtry\u001b[0m\u001b[1;33m:\u001b[0m\u001b[1;33m\u001b[0m\u001b[1;33m\u001b[0m\u001b[0m\n",
      "\u001b[1;31mModuleNotFoundError\u001b[0m: No module named 'config.DatabaseConfig'"
     ]
    }
   ],
   "source": [
    "import pymysql\n",
    "from config.DatabaseConfig import *\n",
    "print('hello')\n",
    "db = None\n",
    "try:\n",
    "    db = pymysql.connect(host= DB_HOST, user=DB_USER, passwd = DB_PASSWORD, db = DB_NAME, charset ='utf8')\n",
    "\n",
    "    sql = '''\n",
    "    CREATE TABLE IF NOT EXISTS `chatbot_train_data` (\n",
    "        `id` INT UNSIGNED NOT NULL AUTO_INCREMENT,\n",
    "        `intent` VARCHAR(45) NULL,\n",
    "        `ner` VARCHAR(1024) NULL,\n",
    "        `query` TEXT NULL,\n",
    "        `answer` TEXT NOT NULL,\n",
    "        `answer_image` VARCHAR(2048) NULL,\n",
    "        PRIMARY KEY (`id`))\n",
    "    ENGINE = InnoDB DEFAULT CHARSET = utf8\n",
    "    '''\n",
    "    with db.cursor()as cursor:\n",
    "        coursor.execute(sql)\n",
    "except Exception as e:\n",
    "    print(e)\n",
    "finally:\n",
    "    if db is not None:\n",
    "        db.close()"
   ]
  },
  {
   "cell_type": "code",
   "execution_count": 2,
   "metadata": {},
   "outputs": [
    {
     "name": "stdout",
     "output_type": "stream",
     "text": [
      "Collecting config\n",
      "  Downloading config-0.5.0.post0-py2.py3-none-any.whl (20 kB)\n",
      "Installing collected packages: config\n",
      "Successfully installed config-0.5.0.post0\n",
      "Note: you may need to restart the kernel to use updated packages.\n"
     ]
    }
   ],
   "source": [
    "pip install config"
   ]
  },
  {
   "cell_type": "code",
   "execution_count": null,
   "metadata": {},
   "outputs": [],
   "source": []
  }
 ],
 "metadata": {
  "kernelspec": {
   "display_name": "Python 3",
   "language": "python",
   "name": "python3"
  },
  "language_info": {
   "codemirror_mode": {
    "name": "ipython",
    "version": 3
   },
   "file_extension": ".py",
   "mimetype": "text/x-python",
   "name": "python",
   "nbconvert_exporter": "python",
   "pygments_lexer": "ipython3",
   "version": "3.8.5"
  }
 },
 "nbformat": 4,
 "nbformat_minor": 4
}
