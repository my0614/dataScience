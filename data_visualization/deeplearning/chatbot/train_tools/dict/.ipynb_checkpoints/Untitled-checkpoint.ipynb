{
 "cells": [
  {
   "cell_type": "code",
   "execution_count": 4,
   "metadata": {},
   "outputs": [],
   "source": [
    "from Preprocess import Preprocess\n",
    "from tensorflow.keras import preprocessing\n",
    "import pickle\n",
    "\n",
    "def read_corpus_data(filename):\n",
    "    f = open(filename, 'r', encoding ='UTF8')\n",
    "    data= [line.split('\\t') for line in f.read().splitlines()]\n",
    "    data =data[1:]\n",
    "    return data\n",
    "\n",
    "corpus_data = read_corpus_data('./corpus.txt')\n",
    "\n",
    "p = Preprocess()\n",
    "dict = []\n",
    "for c in corpus_data:\n",
    "    pos = p.pos(c[1])\n",
    "    for k in pos:\n",
    "        dict.append(k[0])\n",
    "tokenizer = preprocessing.text.Tokenizer(oov_token = 'OOV')\n",
    "tokenizer.fit_on_texts(dict)\n",
    "word_index = tokenizer.word_index\n",
    "\n",
    "f = open('chatbot_dict.bin',\"wb\")\n",
    "try:\n",
    "    pickle.dump(word_index,f)\n",
    "except Exception as e:\n",
    "    print(e)\n",
    "finally:\n",
    "    f.close()"
   ]
  },
  {
   "cell_type": "code",
   "execution_count": null,
   "metadata": {},
   "outputs": [],
   "source": []
  }
 ],
 "metadata": {
  "kernelspec": {
   "display_name": "Python 3",
   "language": "python",
   "name": "python3"
  }
 },
 "nbformat": 4,
 "nbformat_minor": 4
}
