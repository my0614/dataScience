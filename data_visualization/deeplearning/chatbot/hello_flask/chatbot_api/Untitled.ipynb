{
 "cells": [
  {
   "cell_type": "code",
   "execution_count": null,
   "metadata": {},
   "outputs": [],
   "source": [
    "from flask import Flask, requests, jsonify, abort\n",
    "import socket\n",
    "import json\n",
    "\n",
    "host = \"127.0.0.1\"\n",
    "port = 5050\n",
    "app = Flask(__name__)\n",
    "\n",
    "def get_answer_from_engine(bottype, query):\n",
    "    mySocket = socket.socket()\n",
    "    mySocket.connect((host, port))\n",
    "\n",
    "    json_data  = {\n",
    "        'Query' : query,\n",
    "        'BotType' : bottype\n",
    "    }\n",
    "\n",
    "    message = json.dumps(json_data)\n",
    "    mySocket.send(message.encode())\n",
    "\n",
    "    data = mySocket.recv(2048).decode()\n",
    "    ret_data = json.loads(data)\n",
    "\n",
    "    mySocket.close()\n",
    "    return ret_data\n",
    "\n",
    "@app.route('/query/<bot_type>', methods = ['POST'])\n",
    "def query(bot_type):\n",
    "    body = requests.get_json()\n",
    "    try:\n",
    "        if bot_type == 'TEST':\n",
    "            ret=  get_answer_from_engine(bottype= bot_type)\n",
    "            return jsonify(ret)\n",
    "        elif bot_type == 'KAKAO':\n",
    "            pass\n",
    "        elif bot_type == 'NAVER':\n",
    "            pass\n",
    "        else:\n",
    "            abort(404) # 404에러\n",
    "    except Exception as ex:\n",
    "        abort(500) #500에러\n",
    "\n",
    "if __name__ == '__main__':\n",
    "    app.run()\n",
    "\n"
   ]
  }
 ],
 "metadata": {
  "kernelspec": {
   "display_name": "Python 3",
   "language": "python",
   "name": "python3"
  },
  "language_info": {
   "codemirror_mode": {
    "name": "ipython",
    "version": 3
   },
   "file_extension": ".py",
   "mimetype": "text/x-python",
   "name": "python",
   "nbconvert_exporter": "python",
   "pygments_lexer": "ipython3",
   "version": "3.8.5"
  }
 },
 "nbformat": 4,
 "nbformat_minor": 4
}
