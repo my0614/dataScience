{
 "cells": [
  {
   "cell_type": "code",
   "execution_count": null,
   "metadata": {},
   "outputs": [],
   "source": [
    "from pop import Pilot\n",
    "from pop import LiDAR\n",
    "import time\n",
    "\n",
    "def calcAngle(length):\n",
    "\t\n",
    "bot = Pilot.SerBot()\n",
    "lidar = LiDAR.Rplidar()\n",
    "lidar.connect()\n",
    "lidar.startMotor()\n",
    "direction = 0\n",
    "while True:\n",
    "    no_collision = True\n",
    "    vectors = lidar.getVectors()\n",
    "    for v in vectors:\n",
    "        degree = v[0]\n",
    "        distance = v[1]\n",
    "        if degree <= 60 or degree >= 300:\n",
    "            if distance <= 500:\n",
    "                no_collision = False\n",
    "        if degree <= 30:\n",
    "            bot.stop()\n",
    "            print('stop')\n",
    "            \n",
    "    if no_collision:\n",
    "        bot.setSpeed(80)\n",
    "        bot.forward()\n",
    "    else:\n",
    "        bot.setSpeed(50)\n",
    "        bot.turnLeft()"
   ]
  }
 ],
 "metadata": {
  "kernelspec": {
   "display_name": "Python 3",
   "language": "python",
   "name": "python3"
  },
  "language_info": {
   "codemirror_mode": {
    "name": "ipython",
    "version": 3
   },
   "file_extension": ".py",
   "mimetype": "text/x-python",
   "name": "python",
   "nbconvert_exporter": "python",
   "pygments_lexer": "ipython3",
   "version": "3.8.5"
  }
 },
 "nbformat": 4,
 "nbformat_minor": 4
}
